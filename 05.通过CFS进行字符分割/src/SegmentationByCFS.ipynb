{
 "cells": [
  {
   "cell_type": "markdown",
   "metadata": {},
   "source": [
    "# CFS字符分割-1Z实验室"
   ]
  },
  {
   "cell_type": "markdown",
   "metadata": {},
   "source": [
    "## 概要"
   ]
  },
  {
   "cell_type": "markdown",
   "metadata": {},
   "source": [
    "**CFS** 的全称叫做**Color Filling Segmentation**颜色填充字符分割。\n",
    "\n",
    "它基于一个淳朴的假设，一个字符就是一个连通域，都是连在一起的。 \n",
    "\n",
    "首先检索到图片中一个非零点，检索顺序， 从上到下， 从左到右。 然后将这个点添加到队列中。借助队列，检索上下左右相邻区域，直至蔓延到整个连通域。当前的连通域就认作是一个字符。\n",
    "完成后，再继续寻找下一个非零的点。\n",
    "\n",
    "![cfs_result.png](cfs_result.png)\n"
   ]
  },
  {
   "cell_type": "markdown",
   "metadata": {},
   "source": [
    "## 读入图片"
   ]
  },
  {
   "cell_type": "code",
   "execution_count": 1,
   "metadata": {},
   "outputs": [],
   "source": [
    "import cv2\n",
    "import numpy as np\n",
    "from matplotlib import pyplot  as plt"
   ]
  },
  {
   "cell_type": "code",
   "execution_count": 2,
   "metadata": {},
   "outputs": [
    {
     "data": {
      "image/png": "[encoded data removed]",
      "text/plain": [
       "<Figure size 432x288 with 1 Axes>"
      ]
     },
     "metadata": {},
     "output_type": "display_data"
    }
   ],
   "source": [
    "img = cv2.imread('demo.png', cv2.IMREAD_GRAYSCALE)\n",
    "plt.imshow(img, cmap='gray')\n",
    "plt.show()"
   ]
  },
  {
   "cell_type": "markdown",
   "metadata": {},
   "source": [
    "## 寻找非零点坐标\n",
    "\n",
    "利用`visited`矩阵，记录该点是否被遍历过。 从上到下， 从左到右检索到第一个不为0的点，然后返回该点坐标。\n",
    "如果未检索到，则返回`(-1,-1)`"
   ]
  },
  {
   "cell_type": "code",
   "execution_count": 3,
   "metadata": {},
   "outputs": [],
   "source": [
    "\n",
    "def findNextStartPoint(img, visited):\n",
    "    '''\n",
    "    检索一个不为0的点\n",
    "    '''\n",
    "    PT_VISITED = 255\n",
    "    # 原来的二值图片 去掉遍历过的点\n",
    "    targetArea = cv2.bitwise_and(img, cv2.bitwise_not(visited))\n",
    "    height,width = img.shape\n",
    "    \n",
    "    for y in range(height):\n",
    "        for x in range(width):\n",
    "            # 从上到下， 从左到右检索第一个不为0的点的坐标\n",
    "            if visited[y][x]!= PT_VISITED and img[y][x] != 0:\n",
    "                return (x,y)\n",
    "    #不存在白点\n",
    "    return (-1, -1)"
   ]
  },
  {
   "cell_type": "markdown",
   "metadata": {},
   "source": [
    "## 检索连通域\n",
    "\n",
    "`findNextStartPoint`找到起始点， 然后，将这个坐标传入`findConnectedDomain`中， 作为起始检索点。\n",
    "利用数据结构**队列 Queue**来记录像素点的扩散遍历。 扩张方向为十字形， 上下左右， 如果像素点为非零，而且没有被遍历过，就添加到队列中。\n",
    "如果队列为空，则标志着当前连通域遍历完成。\n"
   ]
  },
  {
   "cell_type": "code",
   "execution_count": 4,
   "metadata": {},
   "outputs": [],
   "source": [
    "def findConnectedDomain(img, start_pt):\n",
    "    '''\n",
    "        从起始点start_pt  (x, y) 找到该点所在的连通域\n",
    "    '''\n",
    "    PT_VISITED = 255\n",
    "    \n",
    "    height, width = img.shape\n",
    "    # 十字型核 \n",
    "    cross_kernel = ((0,1), (1,0), (-1,0), (0,-1))\n",
    "    # 利用与img同等大小的矩阵记录访问点\n",
    "    visited = np.zeros_like(img)\n",
    "    # 初始化检索队列\n",
    "    queue = [start_pt]\n",
    "    \n",
    "    while len(queue) != 0:\n",
    "        # 如果队列不为空就一直执行\n",
    "        # 弹出队首元素\n",
    "        cur_pt = queue.pop()\n",
    "        (x,y) = cur_pt\n",
    "        \n",
    "        if visited[y][x] == PT_VISITED:\n",
    "            # 如果已经访问过就PASS\n",
    "            continue\n",
    "        # 标记访问过当前元素\n",
    "        visited[y][x] = PT_VISITED\n",
    "        \n",
    "        for delta_x,delta_y in cross_kernel:\n",
    "            # 下一个点的x坐标与y坐标\n",
    "            next_x = x + delta_x \n",
    "            next_y = y + delta_y\n",
    "            if next_x < 0 or next_x >= width or next_y < 0 or next_y >= height:\n",
    "                # 索引越界判断\n",
    "                continue\n",
    "            if visited[next_y][next_x] == PT_VISITED:\n",
    "                # 已经访问过\n",
    "                continue\n",
    "            if img[next_y][next_x] > 0:\n",
    "                # 将符合条件的邻居添加到队列里\n",
    "                queue.append((next_x, next_y))\n",
    "\n",
    "    return visited\n"
   ]
  },
  {
   "cell_type": "markdown",
   "metadata": {},
   "source": [
    "## CFS函数\n",
    "\n",
    "不断寻找一个非0点像素坐标，然后寻找该点所在的整个连通域。\n",
    "函数返回各个连通域对应的**罩层 Mask**数组。"
   ]
  },
  {
   "cell_type": "code",
   "execution_count": 5,
   "metadata": {},
   "outputs": [],
   "source": [
    "def CFS(img):\n",
    "    '''\n",
    "    利用cfs算法，寻找各个连通域，并返回连通域的掩模数组\n",
    "    '''\n",
    "    digit_masks = []\n",
    "    visited = np.zeros_like(img)\n",
    "    \n",
    "    while True:\n",
    "        # 寻找一个非0的起始点\n",
    "        start_pt = findNextStartPoint(img, visited)\n",
    "        print('Start From {}'.format(start_pt))\n",
    "        if start_pt[0] == -1 and start_pt[1] == -1:\n",
    "            # 如果无有效起始点， 就结束\n",
    "            break\n",
    "        # 获取该点所在连通域的掩模\n",
    "        digit_mask = findConnectedDomain(img, start_pt)\n",
    "        digit_masks.append(digit_mask)\n",
    "        # 更新访问矩阵\n",
    "        cv2.bitwise_or(visited, digit_mask, visited)\n",
    "    \n",
    "    return digit_masks"
   ]
  },
  {
   "cell_type": "code",
   "execution_count": 6,
   "metadata": {},
   "outputs": [
    {
     "name": "stdout",
     "output_type": "stream",
     "text": [
      "Start From (307, 164)\n",
      "Start From (176, 172)\n",
      "Start From (396, 173)\n",
      "Start From (146, 181)\n",
      "Start From (142, 203)\n",
      "Start From (21, 216)\n",
      "Start From (404, 249)\n",
      "Start From (412, 253)\n",
      "Start From (-1, -1)\n"
     ]
    }
   ],
   "source": [
    "digit_masks = CFS(img)"
   ]
  },
  {
   "cell_type": "markdown",
   "metadata": {},
   "source": [
    "## 效果展示\n",
    "\n",
    "创建画布，用不同的颜色填充不同的连通域。"
   ]
  },
  {
   "cell_type": "code",
   "execution_count": 7,
   "metadata": {},
   "outputs": [
    {
     "name": "stdout",
     "output_type": "stream",
     "text": [
      "color: [ 57 240 129]\n",
      "color: [ 19  20 249]\n",
      "color: [103 123 170]\n",
      "color: [152 183  59]\n",
      "color: [188 157  25]\n",
      "color: [141  36 237]\n",
      "color: [  8 132  80]\n",
      "color: [224  34 207]\n"
     ]
    },
    {
     "data": {
      "text/plain": [
       "True"
      ]
     },
     "execution_count": 7,
     "metadata": {},
     "output_type": "execute_result"
    }
   ],
   "source": [
    "'''\n",
    "在一张图片里面 使用不同的色彩对连通域进行绘制\n",
    "'''\n",
    "height,width = img.shape\n",
    "canvas = np.zeros((height, width, 3))\n",
    "\n",
    "for didx, mask in enumerate(digit_masks):\n",
    "    digit = np.zeros((height, width, 3))\n",
    "    color = np.random.randint(0, 255, (3))\n",
    "    print('color: {}'.format(color))\n",
    "    digit[:] = color\n",
    "    digit = cv2.bitwise_or(canvas, digit, mask=mask)\n",
    "    canvas += digit\n",
    "\n",
    "## 保存图片\n",
    "cv2.imwrite('cfs_result.png', canvas)"
   ]
  },
  {
   "cell_type": "code",
   "execution_count": 8,
   "metadata": {},
   "outputs": [
    {
     "data": {
      "image/png": "[encoded data removed]",
      "text/plain": [
       "<Figure size 432x288 with 1 Axes>"
      ]
     },
     "metadata": {},
     "output_type": "display_data"
    }
   ],
   "source": [
    "img = cv2.imread('cfs_result.png')\n",
    "plt.imshow(img[:,:,::-1])\n",
    "plt.show()"
   ]
  }
 ],
 "metadata": {
  "kernelspec": {
   "display_name": "Python 3",
   "language": "python",
   "name": "python3"
  },
  "language_info": {
   "codemirror_mode": {
    "name": "ipython",
    "version": 3
   },
   "file_extension": ".py",
   "mimetype": "text/x-python",
   "name": "python",
   "nbconvert_exporter": "python",
   "pygments_lexer": "ipython3",
   "version": "3.5.2"
  }
 },
 "nbformat": 4,
 "nbformat_minor": 2
}
