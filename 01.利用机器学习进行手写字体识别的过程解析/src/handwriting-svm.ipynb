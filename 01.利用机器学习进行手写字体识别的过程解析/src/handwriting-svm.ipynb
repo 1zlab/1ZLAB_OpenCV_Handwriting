{
 "cells": [
  {
   "cell_type": "markdown",
   "metadata": {},
   "source": [
    "# 利用机器学习进行手写字体识别的过程解析\n",
    "\n",
    "\n",
    "## 概述\n",
    "\n",
    "本课程作为之数字识别主题教程的第一节课。\n",
    "在这个主题课程里，我们不光用到了opencv还用到了python的一个机器学习的库**sklearn**, 虽说opencv自带机器学习的API，但是对于阿凯来讲sklearn用着毕竟顺手一些。\n",
    "\n",
    "在本节课，旨在给大家一个关于**机器学习流程**的宏观印象。不需要注重算法底层细节，只需走马观花看个大概。\n"
   ]
  },
  {
   "cell_type": "markdown",
   "metadata": {},
   "source": [
    "## 引入依赖"
   ]
  },
  {
   "cell_type": "code",
   "execution_count": 1,
   "metadata": {},
   "outputs": [],
   "source": [
    "import cv2\n",
    "import numpy as np\n",
    "from sklearn import datasets,svm\n",
    "from matplotlib import pyplot as plt"
   ]
  },
  {
   "cell_type": "markdown",
   "metadata": {},
   "source": [
    "## 数据预处理\n",
    "\n",
    "\n",
    "**数据预处理是整个机器学习过程中， 耗费最大时间跟精力的地方， 大概会占据你80%以上的工作量。**\n",
    "\n",
    "\n",
    "就拿数字识别来讲，数据预处理所需要做的事情如下：\n",
    "\n",
    "* **去除背景** 是将带有背景的数字提取出来。也有可能需要自己手动抠。\n",
    "* **图像变换** 纸张可能会有畸变，需要对其进行投影变换。或者2D仿射变换，旋转等。\n",
    "* **图像滤波** 可能会有噪声，图像中夹杂者一些小噪点。需要进行一些数学形态学运算。\n",
    "* **字符分割** 数字与数字之间可能有重叠，也由可能有连接，数据预处理需要将两者分开。\n",
    "* **图像二值化** \n",
    "* **样本标注与配比** 每种数字各选多少个，而且要注意书写风格尽可能不能一样。标注图片与数字之间的对应关系。\n",
    "\n",
    "\n",
    "**字符分割是整个图像预处理中最难的地方** \n",
    "![Screenshot_20180301_154627.png](./image/Screenshot_20180301_154627.png)\n",
    "\n",
    "在课程的后半部分，我会介绍几个经典的字符分割的算法，但是不在此展开。\n",
    "\n",
    "\n",
    "我们还是从简单一些的样例开始。\n",
    "\n",
    "我们在的 **CH5.3 图像2D仿射变换** 这一节中教给大家如何从画布中提取数字区域。\n",
    "\n",
    "![number_minarearect_canvas2.png](./image/number_minarearect_canvas2.png)\n",
    "\n",
    "并最终放缩到统一尺寸，如下图所示。\n",
    "\n",
    "![Screenshot_20180219_171151.png](./image/Screenshot_20180219_171151.png)\n",
    "\n"
   ]
  },
  {
   "cell_type": "markdown",
   "metadata": {},
   "source": [
    "## 特征提取\n",
    "\n",
    "特征，也称之为描述子，可以代表一个对象的标签。\n",
    "例如描述一个人，我们可以采用这些描述子： 身高，体重，生日....\n",
    "随着描述子数据量的增大，后续的计算量也就会很大，一般来讲需要的样本量也会很大。\n",
    "\n",
    "所以，如何用少量的信息，描述原来数据的大部分特征，这个就是特征提取所要做的事情。 当然数据量的减少，必然带来信息的丢失。\n",
    "\n",
    "3维空间的实物，可以拍成1000×1000像素的照片，通过照片我们可以判断这是个什么物体，而不需要输入整体的三维数据。（**降维**）\n",
    "\n",
    "可能因为内容简单， 转换为8×8的图片你也能看出来这是个啥(**缩放** )，接下来还可能用5个数值或者更少的数值代表这个8×8的矩阵（**PCA主成分分析**， 抓大放小）\n",
    "\n",
    "也可以将这个8×8的图片，变成一个长度为64的1维向量。本次演示中，就是这么做的。\n",
    "\n"
   ]
  },
  {
   "cell_type": "code",
   "execution_count": 2,
   "metadata": {},
   "outputs": [
    {
     "name": "stdout",
     "output_type": "stream",
     "text": [
      "[  7.5     15.9375  15.9375  15.9375  15.9375  15.9375  15.9375  15.9375\n",
      "  14.25    15.9375  15.9375  15.9375  15.9375  15.9375  15.9375  15.9375\n",
      "   0.       0.       0.       1.      15.9375  15.9375  15.9375   4.8125\n",
      "   0.       0.       1.3125  15.9375  15.9375  15.9375   0.       0.       0.\n",
      "   0.       3.      15.9375  15.9375   3.       0.       0.       0.       0.\n",
      "  15.9375  15.9375  15.9375   0.       0.       0.       0.       0.\n",
      "  15.9375  15.9375   3.8125   0.       0.       0.       0.       4.9375\n",
      "  15.9375  15.       0.0625   0.       0.       0.    ]\n"
     ]
    },
    {
     "data": {
      "image/png": "[encoded data removed]",
      "text/plain": [
       "<matplotlib.figure.Figure at 0x7f03995ffac8>"
      ]
     },
     "metadata": {},
     "output_type": "display_data"
    }
   ],
   "source": [
    "# 数据可视化， 将向量重新变回图片\n",
    "# 利用matplotlib\n",
    "\n",
    "def showDigit(vector):\n",
    "    # 重新变形\n",
    "    img = vector.reshape((8, 8))\n",
    "    plt.imshow(img, cmap='gray')\n",
    "    plt.show()\n",
    "\n",
    "def cvtImg2Vect(img):\n",
    "    # 将灰度图变为向量\n",
    "    # 变换为 8×8\n",
    "    img = cv2.resize(img, (8,8), interpolation = cv2.INTER_LINEAR)\n",
    "    # 变为向量 并将数值放缩在 0-16之间\n",
    "    return np.reshape(img, (64)) / 16\n",
    "\n",
    "# 读入样例图片\n",
    "demo_digit_img = cv2.imread('./number_bin/7.png', cv2.IMREAD_GRAYSCALE)\n",
    "demo_digit_vect = cvtImg2Vect(demo_digit_img)\n",
    "\n",
    "# 提取好的向量 data\n",
    "print(demo_digit_vect)\n",
    "showDigit(demo_digit_vect)\n"
   ]
  },
  {
   "cell_type": "markdown",
   "metadata": {},
   "source": [
    "## 数据标注\n",
    "\n",
    "给每个特征进行分类，并添加标记，标注其对应的分类。必须要一一对应。\n"
   ]
  },
  {
   "cell_type": "markdown",
   "metadata": {},
   "source": [
    "## 读入数据\n",
    "\n",
    "为了做数字识别你需要做大量的图片，图像预处理，然后标注。\n",
    "好在sklearn中有一个预设的手写数字的数据库，里面有1797个手写数字，所以我们用sklearn中自带的数据库进行模型训练。\n"
   ]
  },
  {
   "cell_type": "code",
   "execution_count": 3,
   "metadata": {},
   "outputs": [],
   "source": [
    "# 读入手写字体的\n",
    "digits = datasets.load_digits()"
   ]
  },
  {
   "cell_type": "code",
   "execution_count": 4,
   "metadata": {},
   "outputs": [],
   "source": [
    "# 载入数据 data\n",
    "data = digits.data\n",
    "# 载入标签 label\n",
    "target = digits.target"
   ]
  },
  {
   "cell_type": "code",
   "execution_count": 5,
   "metadata": {},
   "outputs": [
    {
     "data": {
      "text/plain": [
       "array([[  0.,   0.,   5., ...,   0.,   0.,   0.],\n",
       "       [  0.,   0.,   0., ...,  10.,   0.,   0.],\n",
       "       [  0.,   0.,   0., ...,  16.,   9.,   0.],\n",
       "       ..., \n",
       "       [  0.,   0.,   1., ...,   6.,   0.,   0.],\n",
       "       [  0.,   0.,   2., ...,  12.,   0.,   0.],\n",
       "       [  0.,   0.,  10., ...,  12.,   1.,   0.]])"
      ]
     },
     "execution_count": 5,
     "metadata": {},
     "output_type": "execute_result"
    }
   ],
   "source": [
    "# 打印数据\n",
    "data"
   ]
  },
  {
   "cell_type": "code",
   "execution_count": 6,
   "metadata": {},
   "outputs": [
    {
     "data": {
      "text/plain": [
       "array([  0.,   0.,   5.,  13.,   9.,   1.,   0.,   0.,   0.,   0.,  13.,\n",
       "        15.,  10.,  15.,   5.,   0.,   0.,   3.,  15.,   2.,   0.,  11.,\n",
       "         8.,   0.,   0.,   4.,  12.,   0.,   0.,   8.,   8.,   0.,   0.,\n",
       "         5.,   8.,   0.,   0.,   9.,   8.,   0.,   0.,   4.,  11.,   0.,\n",
       "         1.,  12.,   7.,   0.,   0.,   2.,  14.,   5.,  10.,  12.,   0.,\n",
       "         0.,   0.,   0.,   6.,  13.,  10.,   0.,   0.,   0.])"
      ]
     },
     "execution_count": 6,
     "metadata": {},
     "output_type": "execute_result"
    }
   ],
   "source": [
    "# 打印第一行数据 长度为64\n",
    "data[0] "
   ]
  },
  {
   "cell_type": "code",
   "execution_count": 7,
   "metadata": {},
   "outputs": [
    {
     "data": {
      "image/png": "[encoded data removed]",
      "text/plain": [
       "<matplotlib.figure.Figure at 0x7f03412389b0>"
      ]
     },
     "metadata": {},
     "output_type": "display_data"
    }
   ],
   "source": [
    "showDigit(data[0])"
   ]
  },
  {
   "cell_type": "code",
   "execution_count": 8,
   "metadata": {},
   "outputs": [
    {
     "data": {
      "text/plain": [
       "array([0, 1, 2, ..., 8, 9, 8])"
      ]
     },
     "execution_count": 8,
     "metadata": {},
     "output_type": "execute_result"
    }
   ],
   "source": [
    "# 打印标签 label\n",
    "target"
   ]
  },
  {
   "cell_type": "markdown",
   "metadata": {},
   "source": [
    "## 分割数据集\n",
    "\n",
    "将数据分为训练集跟测试集。训练集用于训练SVM模型,测试集用于检验SVM模型的准确率。\n"
   ]
  },
  {
   "cell_type": "code",
   "execution_count": 9,
   "metadata": {},
   "outputs": [
    {
     "name": "stdout",
     "output_type": "stream",
     "text": [
      "1797\n"
     ]
    }
   ],
   "source": [
    "# 查看一共有多少个sample\n",
    "n_digit = len(data)\n",
    "print(n_digit)"
   ]
  },
  {
   "cell_type": "markdown",
   "metadata": {},
   "source": [
    "对原来的数据进行重排序， 随机打乱"
   ]
  },
  {
   "cell_type": "code",
   "execution_count": 10,
   "metadata": {},
   "outputs": [
    {
     "data": {
      "text/plain": [
       "array([   0,    1,    2, ..., 1794, 1795, 1796])"
      ]
     },
     "execution_count": 10,
     "metadata": {},
     "output_type": "execute_result"
    }
   ],
   "source": [
    "idxs = np.array(range(n_digit))\n",
    "idxs"
   ]
  },
  {
   "cell_type": "code",
   "execution_count": 11,
   "metadata": {},
   "outputs": [
    {
     "data": {
      "text/plain": [
       "array([1690, 1667,  346, ...,  222, 1066,  374])"
      ]
     },
     "execution_count": 11,
     "metadata": {},
     "output_type": "execute_result"
    }
   ],
   "source": [
    "# 利用shuffle 对索引序列进行重新排序\n",
    "np.random.shuffle(idxs)\n",
    "idxs"
   ]
  },
  {
   "cell_type": "code",
   "execution_count": 12,
   "metadata": {},
   "outputs": [],
   "source": [
    "# 利用numpy的索引进行重新排序\n",
    "data = data[idxs]\n",
    "target = target[idxs]\n",
    "\n",
    "# 分割训练集跟测试集\n",
    "# 获取训练集\n",
    "n_train = int(n_digit*0.80) # 取前80%作为训练集\n",
    "train_digit = data[:n_train]\n",
    "train_label = target[:n_train]\n",
    "\n",
    "# 获取测试集\n",
    "n_test = n_digit - n_train # 测试样本的个数\n",
    "test_digit = data[n_train:] # 测试样本的特征\n",
    "test_label = target[n_train:] # 测试样本的标签"
   ]
  },
  {
   "cell_type": "markdown",
   "metadata": {},
   "source": [
    "## 选择机器学习模型\n",
    "\n",
    "根据经验选择机器学习模型， 这里我们选择的是SVM 支持向量机\n",
    "目前为止，你不需要知道SVM的具体算法，只需要将其当作黑箱，喂养给这个模型很多好吃的（数据）， 他就会越来越聪明，提高分类的准确率。"
   ]
  },
  {
   "cell_type": "markdown",
   "metadata": {},
   "source": [
    "## 训练模型"
   ]
  },
  {
   "cell_type": "code",
   "execution_count": 13,
   "metadata": {},
   "outputs": [],
   "source": [
    "# 创建一个分类器，类型为SVM 支持向量机\n",
    "# 并定义超参数 gamma=0.001\n",
    "classifier = svm.SVC(gamma=0.001)"
   ]
  },
  {
   "cell_type": "code",
   "execution_count": 14,
   "metadata": {},
   "outputs": [
    {
     "data": {
      "text/plain": [
       "SVC(C=1.0, cache_size=200, class_weight=None, coef0=0.0,\n",
       "  decision_function_shape='ovr', degree=3, gamma=0.001, kernel='rbf',\n",
       "  max_iter=-1, probability=False, random_state=None, shrinking=True,\n",
       "  tol=0.001, verbose=False)"
      ]
     },
     "execution_count": 14,
     "metadata": {},
     "output_type": "execute_result"
    }
   ],
   "source": [
    "# 开始fit\n",
    "# 输入训练集， 调参\n",
    "classifier.fit(train_digit, train_label)"
   ]
  },
  {
   "cell_type": "markdown",
   "metadata": {},
   "source": [
    "## 模型预测\n",
    "\n",
    "将样本输入训练好的模型， 模型会给出自己的预测结果"
   ]
  },
  {
   "cell_type": "code",
   "execution_count": 15,
   "metadata": {},
   "outputs": [],
   "source": [
    "# 获取样本输入\n",
    "sample_digit_vect = test_digit[0]\n",
    "# 获取真实的标签 （已知）\n",
    "sample_digit_label = test_label[0]"
   ]
  },
  {
   "cell_type": "code",
   "execution_count": 16,
   "metadata": {},
   "outputs": [
    {
     "data": {
      "image/png": "[encoded data removed]",
      "text/plain": [
       "<matplotlib.figure.Figure at 0x7f03413f6208>"
      ]
     },
     "metadata": {},
     "output_type": "display_data"
    }
   ],
   "source": [
    "showDigit(sample_digit_vect)"
   ]
  },
  {
   "cell_type": "code",
   "execution_count": 17,
   "metadata": {},
   "outputs": [
    {
     "name": "stdout",
     "output_type": "stream",
     "text": [
      "正确标签 ： 7\n"
     ]
    }
   ],
   "source": [
    "print(\"正确标签 ： {}\".format(sample_digit_label))"
   ]
  },
  {
   "cell_type": "code",
   "execution_count": 18,
   "metadata": {},
   "outputs": [
    {
     "data": {
      "text/plain": [
       "array([7])"
      ]
     },
     "execution_count": 18,
     "metadata": {},
     "output_type": "execute_result"
    }
   ],
   "source": [
    "# 利用模型预测\n",
    "classifier.predict([sample_digit_vect])"
   ]
  },
  {
   "cell_type": "code",
   "execution_count": 19,
   "metadata": {},
   "outputs": [
    {
     "data": {
      "text/plain": [
       "True"
      ]
     },
     "execution_count": 19,
     "metadata": {},
     "output_type": "execute_result"
    }
   ],
   "source": [
    "sample_digit_predict = classifier.predict([sample_digit_vect])[0]\n",
    "# 判断是否准确\n",
    "sample_digit_predict == sample_digit_label"
   ]
  },
  {
   "cell_type": "markdown",
   "metadata": {},
   "source": [
    "**预测我们自己预处理的样本数据**"
   ]
  },
  {
   "cell_type": "code",
   "execution_count": 20,
   "metadata": {},
   "outputs": [
    {
     "data": {
      "image/png": "[encoded data removed]",
      "text/plain": [
       "<matplotlib.figure.Figure at 0x7f03415b3128>"
      ]
     },
     "metadata": {},
     "output_type": "display_data"
    }
   ],
   "source": [
    "showDigit(demo_digit_vect)"
   ]
  },
  {
   "cell_type": "code",
   "execution_count": 21,
   "metadata": {},
   "outputs": [
    {
     "data": {
      "text/plain": [
       "array([7])"
      ]
     },
     "execution_count": 21,
     "metadata": {},
     "output_type": "execute_result"
    }
   ],
   "source": [
    "# 预测我们自己预处理的样本数据\n",
    "classifier.predict([demo_digit_vect])"
   ]
  },
  {
   "cell_type": "markdown",
   "metadata": {},
   "source": [
    "## 模型评估"
   ]
  },
  {
   "cell_type": "markdown",
   "metadata": {},
   "source": [
    "模型评估就是用来说明一个机器学习模型效果的好坏，准不准，需要借助某种指标或者说是度量．\n",
    "\n",
    "最简单的指标莫过于**准确率 Accuracy**了，　准确率＝成功匹配的个数 / 测试集总个数"
   ]
  },
  {
   "cell_type": "code",
   "execution_count": 22,
   "metadata": {},
   "outputs": [
    {
     "data": {
      "text/plain": [
       "array([7, 7, 7, 3, 2, 0, 4, 5, 8, 1])"
      ]
     },
     "execution_count": 22,
     "metadata": {},
     "output_type": "execute_result"
    }
   ],
   "source": [
    "# 将训练集传入classifier\n",
    "test_predict = classifier.predict(test_digit)\n",
    "# 打印预测结果\n",
    "test_predict[:10]"
   ]
  },
  {
   "cell_type": "code",
   "execution_count": 23,
   "metadata": {},
   "outputs": [
    {
     "data": {
      "text/plain": [
       "array([ True,  True,  True,  True,  True,  True,  True,  True,  True,  True], dtype=bool)"
      ]
     },
     "execution_count": 23,
     "metadata": {},
     "output_type": "execute_result"
    }
   ],
   "source": [
    "# 将真实的标签与预测标签对比， 获取布尔值\n",
    "result = test_predict == test_label\n",
    "result[:10]"
   ]
  },
  {
   "cell_type": "code",
   "execution_count": 24,
   "metadata": {},
   "outputs": [
    {
     "data": {
      "text/plain": [
       "356"
      ]
     },
     "execution_count": 24,
     "metadata": {},
     "output_type": "execute_result"
    }
   ],
   "source": [
    "# 统计为真的个数\n",
    "n_match = np.count_nonzero(result)\n",
    "n_match"
   ]
  },
  {
   "cell_type": "code",
   "execution_count": 25,
   "metadata": {},
   "outputs": [
    {
     "name": "stdout",
     "output_type": "stream",
     "text": [
      "Accuracy 准确率为：0.9889\n"
     ]
    }
   ],
   "source": [
    "# 获取准确率  成功匹配的个数 / 测试集总个数\n",
    "accuracy = n_match / n_test\n",
    "\n",
    "print(\"Accuracy 准确率为：%.4f\"%accuracy)"
   ]
  },
  {
   "cell_type": "markdown",
   "metadata": {},
   "source": [
    "PS 不过，大家千万也别特别痴迷在准确率上，因为这样容易过拟合．\n",
    "在后续的教程里，阿凯会举例说明**过拟合**跟**欠拟合**的概念．"
   ]
  },
  {
   "cell_type": "markdown",
   "metadata": {},
   "source": [
    "## 模型持久化\n",
    "训练好的模型，为了方便我们下次再次调用，需要将**分类器　classifier**对象持久化为二进制数据．\n",
    "下次使用的时候，直接导入模型，而不至于再重新训练模型．\n"
   ]
  },
  {
   "cell_type": "code",
   "execution_count": 26,
   "metadata": {},
   "outputs": [],
   "source": [
    "import pickle\n",
    "\n",
    "# 将分类器 classfier 序列化为二进制数据\n",
    "clf_bin = pickle.dumps(classifier)"
   ]
  },
  {
   "cell_type": "code",
   "execution_count": 27,
   "metadata": {},
   "outputs": [],
   "source": [
    "# 将二进制数据 存入文件中\n",
    "with open('digit_clf.bin','bw') as f:\n",
    "    f.write(clf_bin)\n"
   ]
  },
  {
   "cell_type": "code",
   "execution_count": 28,
   "metadata": {},
   "outputs": [],
   "source": [
    "# 从文件中重新读入序列化的二进制数据\n",
    "clf_bin2 = None\n",
    "with open('digit_clf.bin','br') as f:\n",
    "    clf_bin2 = f.read()\n",
    "# 将二进制数据还原为分类器对象\n",
    "classifier2 = pickle.loads(clf_bin2)"
   ]
  },
  {
   "cell_type": "code",
   "execution_count": 29,
   "metadata": {},
   "outputs": [
    {
     "data": {
      "image/png": "[encoded data removed]",
      "text/plain": [
       "<matplotlib.figure.Figure at 0x7f0341562f28>"
      ]
     },
     "metadata": {},
     "output_type": "display_data"
    }
   ],
   "source": [
    "# 测试用分类器重新进行分类\n",
    "\n",
    "dight_vect = test_digit[1]\n",
    "showDigit(dight_vect)"
   ]
  },
  {
   "cell_type": "code",
   "execution_count": 30,
   "metadata": {},
   "outputs": [
    {
     "data": {
      "text/plain": [
       "array([7])"
      ]
     },
     "execution_count": 30,
     "metadata": {},
     "output_type": "execute_result"
    }
   ],
   "source": [
    "# 预测样本\n",
    "classifier2.predict([dight_vect])"
   ]
  }
 ],
 "metadata": {
  "kernelspec": {
   "display_name": "Python 3",
   "language": "python",
   "name": "python3"
  },
  "language_info": {
   "codemirror_mode": {
    "name": "ipython",
    "version": 3
   },
   "file_extension": ".py",
   "mimetype": "text/x-python",
   "name": "python",
   "nbconvert_exporter": "python",
   "pygments_lexer": "ipython3",
   "version": "3.5.2"
  }
 },
 "nbformat": 4,
 "nbformat_minor": 2
}
