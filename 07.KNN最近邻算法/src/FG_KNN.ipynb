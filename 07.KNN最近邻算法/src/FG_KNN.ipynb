{
 "cells": [
  {
   "cell_type": "markdown",
   "metadata": {},
   "source": [
    "# KNN-阿凯的机器学习玩具代码\n"
   ]
  },
  {
   "cell_type": "markdown",
   "metadata": {},
   "source": [
    "## 鸢尾花数据集\n",
    "\n",
    "![u=2711639257,742490474&fm=27&gp=0.jpg](./IMG/u=2711639257,742490474&fm=27&gp=0.jpg)\n",
    "\n",
    "  鸢尾花数据是一个简易有趣的数据集。这个数据集来源于科学家在一岛上找到一种花的三种不同亚类别，分别叫做iris setosa, iris versicolor,iris virginica。但是这三个种类并不是很好分辩，所以他们又从花萼长度(sepal length)，花萼宽度(sepal width)，花瓣长度(petal length)，花瓣宽度(petal width)这四个角度测量不同的种类用于定量分析。基于这四个特征，这些数据成了一个多重变量分析的数据集。在sklearn中预置了鸢尾花（iris）的数据集， 我们可以直接导入， 每种各有50个样本，target（目标分类）数据分别为0,1,2"
   ]
  },
  {
   "cell_type": "markdown",
   "metadata": {},
   "source": [
    "![iris_data_table.jpg](./IMG/iris_data_table.jpg)"
   ]
  },
  {
   "cell_type": "code",
   "execution_count": 1,
   "metadata": {},
   "outputs": [],
   "source": [
    "# 导入数据库\n",
    "from sklearn import datasets\n",
    "# 从数据库中载入iris样本\n",
    "iris = datasets.load_iris()\n",
    "\n",
    "X = iris.data\n",
    "y = iris.target"
   ]
  },
  {
   "cell_type": "code",
   "execution_count": 2,
   "metadata": {},
   "outputs": [
    {
     "data": {
      "text/plain": [
       "array([[ 5.1,  3.5,  1.4,  0.2],\n",
       "       [ 4.9,  3. ,  1.4,  0.2],\n",
       "       [ 4.7,  3.2,  1.3,  0.2],\n",
       "       [ 4.6,  3.1,  1.5,  0.2],\n",
       "       [ 5. ,  3.6,  1.4,  0.2],\n",
       "       [ 5.4,  3.9,  1.7,  0.4],\n",
       "       [ 4.6,  3.4,  1.4,  0.3],\n",
       "       [ 5. ,  3.4,  1.5,  0.2],\n",
       "       [ 4.4,  2.9,  1.4,  0.2],\n",
       "       [ 4.9,  3.1,  1.5,  0.1]])"
      ]
     },
     "execution_count": 2,
     "metadata": {},
     "output_type": "execute_result"
    }
   ],
   "source": [
    "# 打印前10组特征\n",
    "X[:10]"
   ]
  },
  {
   "cell_type": "code",
   "execution_count": 3,
   "metadata": {},
   "outputs": [
    {
     "data": {
      "text/plain": [
       "array([0, 0, 0, 0, 0, 0, 0, 0, 0, 0])"
      ]
     },
     "execution_count": 3,
     "metadata": {},
     "output_type": "execute_result"
    }
   ],
   "source": [
    "# 打印前10个数据的标签\n",
    "y[:10]"
   ]
  },
  {
   "cell_type": "markdown",
   "metadata": {},
   "source": [
    "为了讲解KNN算法， 我们先从最简单的2D数据开始讲解。所以我们可以从iris数据集中选取两组特征值，例如花萼长度(sepal length)，花萼宽度(sepal width）。因为只选取了其中的两维数据， 信息肯定是丢失的，所以不必纠结与最后的准确率。"
   ]
  },
  {
   "cell_type": "code",
   "execution_count": 4,
   "metadata": {},
   "outputs": [
    {
     "data": {
      "text/plain": [
       "array([[ 5.1,  3.5],\n",
       "       [ 4.9,  3. ],\n",
       "       [ 4.7,  3.2],\n",
       "       [ 4.6,  3.1],\n",
       "       [ 5. ,  3.6],\n",
       "       [ 5.4,  3.9],\n",
       "       [ 4.6,  3.4],\n",
       "       [ 5. ,  3.4],\n",
       "       [ 4.4,  2.9],\n",
       "       [ 4.9,  3.1]])"
      ]
     },
     "execution_count": 4,
     "metadata": {},
     "output_type": "execute_result"
    }
   ],
   "source": [
    "data = X[:,:2]\n",
    "data[:10]"
   ]
  },
  {
   "cell_type": "code",
   "execution_count": 5,
   "metadata": {},
   "outputs": [],
   "source": [
    "# 打乱排序\n",
    "import numpy as np\n",
    "n_sample = len(data)\n",
    "# 初始化排序\n",
    "idxs = np.arange(n_sample)\n",
    "# 打乱排序\n",
    "np.random.shuffle(idxs)\n",
    "\n",
    "data = data[idxs]\n",
    "target = y[idxs]"
   ]
  },
  {
   "cell_type": "code",
   "execution_count": 6,
   "metadata": {},
   "outputs": [
    {
     "data": {
      "text/plain": [
       "array([0, 2, 1, 2, 0, 2, 0, 2, 2, 0, 2, 1, 0, 2, 2, 2, 1, 1, 2, 0, 0, 2, 1,\n",
       "       0, 2, 1, 1, 2, 0, 0, 2, 1, 1, 0, 2, 1, 0, 0, 1, 2, 2, 0, 2, 2, 2, 1,\n",
       "       1, 1, 2, 2, 1, 1, 0, 0, 0, 2, 0, 0, 1, 2, 0, 0, 1, 2, 2, 1, 1, 0, 1,\n",
       "       0, 0, 0, 2, 0, 1, 0, 0, 1, 0, 1, 1, 0, 1, 0, 2, 2, 0, 1, 2, 1, 0, 1,\n",
       "       1, 1, 0, 2, 0, 0, 2, 2, 2, 0, 1, 2, 0, 2, 2, 0, 1, 0, 1, 2, 1, 2, 0,\n",
       "       0, 2, 1, 1, 1, 1, 0, 0, 2, 1, 2, 1, 2, 2, 0, 2, 1, 1, 1, 0, 2, 0, 2,\n",
       "       1, 0, 2, 0, 1, 1, 0, 1, 2, 1, 1, 2])"
      ]
     },
     "execution_count": 6,
     "metadata": {},
     "output_type": "execute_result"
    }
   ],
   "source": [
    "target"
   ]
  },
  {
   "cell_type": "code",
   "execution_count": 7,
   "metadata": {},
   "outputs": [
    {
     "data": {
      "image/png": "[encoded data removed]",
      "text/plain": [
       "<matplotlib.figure.Figure at 0x7f5f21580860>"
      ]
     },
     "metadata": {},
     "output_type": "display_data"
    }
   ],
   "source": [
    "from matplotlib import pyplot as plt\n",
    "\n",
    "def drawData(data, target):\n",
    "    targetColorDict = {\n",
    "        0: 'red',\n",
    "        1: 'green',\n",
    "        2: 'blue'\n",
    "    }\n",
    "\n",
    "    for t,color in targetColorDict.items():\n",
    "        idxs = np.argwhere(target == t)\n",
    "        idxs.resize(len(idxs))\n",
    "        plt.scatter(data[idxs][:,0],data[idxs][:,1],s=25,marker='o', c=targetColorDict[t])\n",
    "\n",
    "    plt.show()\n",
    "    \n",
    "drawData(data, target)"
   ]
  },
  {
   "cell_type": "markdown",
   "metadata": {},
   "source": [
    "## 数据归一化"
   ]
  },
  {
   "cell_type": "markdown",
   "metadata": {},
   "source": [
    "如果维度之间的数值的差别很大的话， 不能直接进行距离计算，例如这样的\n",
    "\n",
    "$$distance = \\sqrt{(0-67)^2 + (20000 - 32000)^2 + (1.1 - 0.1)^2}$$\n",
    "\n",
    "需要对其进归一化（normalized）， 将数值范围放缩到0-1之间。\n",
    "$$newValue = (oldValue - minValue) / (maxValue - minValue)$$"
   ]
  },
  {
   "cell_type": "code",
   "execution_count": 8,
   "metadata": {},
   "outputs": [
    {
     "data": {
      "image/png": "[encoded data removed]",
      "text/plain": [
       "<matplotlib.figure.Figure at 0x7f5f1d593390>"
      ]
     },
     "metadata": {},
     "output_type": "display_data"
    }
   ],
   "source": [
    "def Normalize(data):\n",
    "    '''\n",
    "    对数据进行归一化处理\n",
    "    '''\n",
    "    n_dimension = len(data[0])\n",
    "    new_data = np.copy(data)\n",
    "    \n",
    "    for d_idx in range(n_dimension):\n",
    "        minValue = np.min(data[:,d_idx])\n",
    "        maxValue = np.max(data[:,d_idx])\n",
    "        new_data[:,d_idx] = (data[:,d_idx] - minValue)/(maxValue - minValue)\n",
    "    return new_data\n",
    "\n",
    "data = Normalize(data)\n",
    "drawData(data, target)"
   ]
  },
  {
   "cell_type": "markdown",
   "metadata": {},
   "source": [
    "## 距离计算公式 - 欧式距离\n",
    "\n",
    "实际上，距离计算的方法有很多种，例如欧式距离，汉明距离等等，详细的距离计算方法，大家可以参考一下博客[各种距离算法](http://blog.csdn.net/a_12_123_1234_12345/article/details/78857062). 这里我们只讲解欧式距离。\n",
    "实际上，我们在平面几何中， 计算距离采用的就是欧式距离。\n",
    "\n",
    "![1353398777_7638.png](./IMG/1353398777_7638.png)"
   ]
  },
  {
   "cell_type": "markdown",
   "metadata": {},
   "source": [
    "在2D平面上， 点$(x_1, y_1), (x_2, y_2)$之间的距离计算公式为：\n",
    "\n",
    "$$d = \\sqrt{(x_1 - x_2)^2 + (y_1 - y_2)^2}$$\n"
   ]
  },
  {
   "cell_type": "code",
   "execution_count": 9,
   "metadata": {},
   "outputs": [
    {
     "data": {
      "text/plain": [
       "array([ 0.20833333,  0.13678969,  0.16197089,  0.17179607,  0.30460711,\n",
       "        0.13888889,  0.29000851,  0.29000851,  0.33592741,  0.50689688,\n",
       "        0.39771725,  0.41036908,  0.45069391,  0.08333333,  0.47466687,\n",
       "        0.22438187,  0.58597286,  0.2003084 ,  0.17179607,  0.34359214,\n",
       "        0.30838338,  0.186339  ,  0.2003084 ,  0.38888889,  0.21561354,\n",
       "        0.12804923,  0.25609846,  0.25      ,  0.48848626,  0.37060178,\n",
       "        0.35600016,  0.17179607,  0.41759157,  0.3167154 ,  0.13888889,\n",
       "        0.22438187,  0.33592741,  0.51219691,  0.32542707,  0.16896563,\n",
       "        0.21154925,  0.47222222,  0.17179607,  0.22609473,  0.08784105,\n",
       "        0.21154925,  0.1001542 ,  0.06944444,  0.50993222,  0.30555556,\n",
       "        0.22438187,  0.12804923,  0.37371178,  0.28088539,  0.30460711,\n",
       "        0.06944444,  0.30555556,  0.3167154 ,  0.08784105,  0.50993222,\n",
       "        0.37060178,  0.30460711,  0.33592741,  0.22222222,  0.1001542 ,\n",
       "        0.372678  ,  0.17179607,  0.37371178,  0.21017703,  0.3167154 ,\n",
       "        0.37060178,  0.37371178,  0.34805456,  0.44876373,  0.18685589,\n",
       "        0.35053971,  0.33592741,  0.41759157,  0.2795085 ,  0.08333333,\n",
       "        0.25      ,  0.37060178,  0.26352314,  0.34359214,  0.44292274,\n",
       "        0.55901699,  0.27357938,  0.40277778,  0.3167154 ,  0.372678  ,\n",
       "        0.36350701,  0.32304732,  0.16197089,  0.37909289,  0.38888889,\n",
       "        0.22438187,  0.26352314,  0.33013512,  0.17568209,  0.45218946,\n",
       "        0.0931695 ,  0.42491829,  0.16666667,  0.22609473,  0.35053971,\n",
       "        0.08784105,  0.42491829,  0.21154925,  0.18685589,  0.44876373,\n",
       "        0.13888889,  0.31211396,  0.2003084 ,  0.29691053,  0.34722222,\n",
       "        0.33592741,  0.21695138,  0.27357938,  0.186339  ,  0.16666667,\n",
       "        0.08333333,  0.41874482,  0.21154925,  0.22438187,  0.22609473,\n",
       "        0.1001542 ,  0.05555556,  0.11111111,  0.41759157,  0.41666667,\n",
       "        0.13888889,  0.125     ,  0.4837243 ,  0.16197089,  0.47951879,\n",
       "        0.186339  ,  0.34805456,  0.186339  ,  0.29691053,  0.33013512,\n",
       "        0.19444444,  0.58151171,  0.30046261,  0.1502313 ,  0.28497617,\n",
       "        0.16724437,  0.186339  ,  0.47140452,  0.25038551,  0.08333333])"
      ]
     },
     "execution_count": 9,
     "metadata": {},
     "output_type": "execute_result"
    }
   ],
   "source": [
    "def EuclideanDistance(data, vect):\n",
    "    '''\n",
    "    计算一个点与其他点集的距离，输出一个距离列表\n",
    "    '''\n",
    "    return np.sqrt(((data-vect)**2).sum(axis=1))\n",
    "\n",
    "EuclideanDistance(data, np.array([0.5, 0.5]))"
   ]
  },
  {
   "cell_type": "markdown",
   "metadata": {},
   "source": [
    "## K最近邻算法的实现\n",
    "\n",
    "为了讲解KNN，同时也因为KNN模型足够简单，所以阿凯打算先讲解如何自己动手DIY KNN算法。\n",
    "前面讲解了获取一个点距离数据集的所有距离的集合，所以在KNN函数中，需要做的就是需要提取前K个最小距离的数据并统计他们所属的类，最后输出最多的类。"
   ]
  },
  {
   "cell_type": "code",
   "execution_count": 10,
   "metadata": {},
   "outputs": [
    {
     "name": "stdout",
     "output_type": "stream",
     "text": [
      "[ 0.20833333  0.13678969  0.16197089  0.17179607  0.30460711  0.13888889\n",
      "  0.29000851  0.29000851  0.33592741  0.50689688  0.39771725  0.41036908\n",
      "  0.45069391  0.08333333  0.47466687  0.22438187  0.58597286  0.2003084\n",
      "  0.17179607  0.34359214  0.30838338  0.186339    0.2003084   0.38888889\n",
      "  0.21561354  0.12804923  0.25609846  0.25        0.48848626  0.37060178\n",
      "  0.35600016  0.17179607  0.41759157  0.3167154   0.13888889  0.22438187\n",
      "  0.33592741  0.51219691  0.32542707  0.16896563  0.21154925  0.47222222\n",
      "  0.17179607  0.22609473  0.08784105  0.21154925  0.1001542   0.06944444\n",
      "  0.50993222  0.30555556  0.22438187  0.12804923  0.37371178  0.28088539\n",
      "  0.30460711  0.06944444  0.30555556  0.3167154   0.08784105  0.50993222\n",
      "  0.37060178  0.30460711  0.33592741  0.22222222  0.1001542   0.372678\n",
      "  0.17179607  0.37371178  0.21017703  0.3167154   0.37060178  0.37371178\n",
      "  0.34805456  0.44876373  0.18685589  0.35053971  0.33592741  0.41759157\n",
      "  0.2795085   0.08333333  0.25        0.37060178  0.26352314  0.34359214\n",
      "  0.44292274  0.55901699  0.27357938  0.40277778  0.3167154   0.372678\n",
      "  0.36350701  0.32304732  0.16197089  0.37909289  0.38888889  0.22438187\n",
      "  0.26352314  0.33013512  0.17568209  0.45218946  0.0931695   0.42491829\n",
      "  0.16666667  0.22609473  0.35053971  0.08784105  0.42491829  0.21154925\n",
      "  0.18685589  0.44876373  0.13888889  0.31211396  0.2003084   0.29691053\n",
      "  0.34722222  0.33592741  0.21695138  0.27357938  0.186339    0.16666667\n",
      "  0.08333333  0.41874482  0.21154925  0.22438187  0.22609473  0.1001542\n",
      "  0.05555556  0.11111111  0.41759157  0.41666667  0.13888889  0.125\n",
      "  0.4837243   0.16197089  0.47951879  0.186339    0.34805456  0.186339\n",
      "  0.29691053  0.33013512  0.19444444  0.58151171  0.30046261  0.1502313\n",
      "  0.28497617  0.16724437  0.186339    0.47140452  0.25038551  0.08333333]\n"
     ]
    }
   ],
   "source": [
    "# 拟定一个测试点 坐标是0.5 0.5\n",
    "vect = np.array([0.5, 0.5])\n",
    "# K设定为5\n",
    "K = 5\n",
    "# 获取距离列表\n",
    "distance = EuclideanDistance(data, vect)\n",
    "print(distance)"
   ]
  },
  {
   "cell_type": "code",
   "execution_count": 11,
   "metadata": {},
   "outputs": [
    {
     "data": {
      "text/plain": [
       "array([126,  55,  47, 120,  79])"
      ]
     },
     "execution_count": 11,
     "metadata": {},
     "output_type": "execute_result"
    }
   ],
   "source": [
    "# 获取排序从小到大对应的编号 并截取前K个index\n",
    "kn_idxs = distance.argsort()[:K]\n",
    "kn_idxs"
   ]
  },
  {
   "cell_type": "code",
   "execution_count": 12,
   "metadata": {},
   "outputs": [
    {
     "name": "stdout",
     "output_type": "stream",
     "text": [
      "[1 2 1 1 1]\n"
     ]
    }
   ],
   "source": [
    "import collections\n",
    "\n",
    "# 获取前K个邻居的标签\n",
    "kn_labels = target[kn_idxs]\n",
    "\n",
    "print(kn_labels)"
   ]
  },
  {
   "cell_type": "code",
   "execution_count": 13,
   "metadata": {},
   "outputs": [
    {
     "name": "stdout",
     "output_type": "stream",
     "text": [
      "{1: 4, 2: 1}\n"
     ]
    }
   ],
   "source": [
    "# 对标签进行统计\n",
    "kn_labels_stat = dict(collections.Counter(kn_labels))\n",
    "print(kn_labels_stat)"
   ]
  },
  {
   "cell_type": "code",
   "execution_count": 14,
   "metadata": {},
   "outputs": [
    {
     "name": "stdout",
     "output_type": "stream",
     "text": [
      "1\n"
     ]
    }
   ],
   "source": [
    "# 获取数量最高的标签\n",
    "predict = max(kn_labels_stat, key=lambda x: kn_labels_stat[x])\n",
    "print(predict)"
   ]
  },
  {
   "cell_type": "code",
   "execution_count": 15,
   "metadata": {},
   "outputs": [],
   "source": [
    "def KNN(data, vect, K=3):\n",
    "    '''\n",
    "    K 邻近算法的实现\n",
    "    '''\n",
    "    distance = EuclideanDistance(data, vect)\n",
    "    kn_idxs = distance.argsort()[:K]\n",
    "    # 获取前K个邻居的标签\n",
    "    kn_labels = target[kn_idxs]\n",
    "    # 对标签进行统计\n",
    "    kn_labels_stat = dict(collections.Counter(kn_labels))\n",
    "    # 获取数量最高的标签\n",
    "    predict = max(kn_labels_stat, key=lambda x: kn_labels_stat[x])\n",
    "    return predict\n"
   ]
  },
  {
   "cell_type": "code",
   "execution_count": 16,
   "metadata": {},
   "outputs": [
    {
     "data": {
      "text/plain": [
       "1"
      ]
     },
     "execution_count": 16,
     "metadata": {},
     "output_type": "execute_result"
    }
   ],
   "source": [
    "\n",
    "# 拟定一个测试点 坐标是0.5 0.5\n",
    "vect = np.array([0.5, 0.5])\n",
    "# K设定为5\n",
    "K = 5\n",
    "\n",
    "KNN(data, vect, K)"
   ]
  },
  {
   "cell_type": "markdown",
   "metadata": {},
   "source": [
    "## 预测效果检验\n",
    "\n",
    "划分训练集跟测试集, 使用80%的数据作为训练集， 剩下的20%作为测试集。\n",
    "\n",
    "**注意：KNN没有预先训练模型的过程**， 这个模型比较**懒**, 每次判断一个点类型的时候，是将这个点跟训练集中的每个样本一一比较，然后选取前K个比较邻近的。 类似这种的学习方式被称之为**Lazy Learning 懒式学习** '有点像是平时不努力学习功课，到了考前才开始临时抱佛脚的感觉。'"
   ]
  },
  {
   "cell_type": "code",
   "execution_count": 17,
   "metadata": {},
   "outputs": [
    {
     "name": "stdout",
     "output_type": "stream",
     "text": [
      "准确率：　0.80\n"
     ]
    }
   ],
   "source": [
    "# 训练集\n",
    "X_train = data[:120]\n",
    "y_train = target[:120]\n",
    "# 测试集\n",
    "X_test = data[120:]\n",
    "y_test = target[120:]\n",
    "\n",
    "def evaluateModel(X_train, y_train, X_test, y_test, K=1):\n",
    "    y_predict = np.ones_like(y_test)\n",
    "    n_test = len(y_test)\n",
    "    \n",
    "    for idx in range(n_test):\n",
    "        vect = X_test[idx]\n",
    "        predict = KNN(data, vect, K)\n",
    "        y_predict[idx] = predict\n",
    "    \n",
    "    # 准确率\n",
    "    accuracy = np.count_nonzero(y_predict == y_test) / n_test\n",
    "    return accuracy\n",
    "\n",
    "\n",
    "accuracy = evaluateModel(X_train,y_train, X_test, y_test,K=5)\n",
    "print(\"准确率：　%.2f\"%(accuracy))"
   ]
  },
  {
   "cell_type": "markdown",
   "metadata": {},
   "source": [
    "## 可视化\n",
    "\n"
   ]
  },
  {
   "cell_type": "code",
   "execution_count": 18,
   "metadata": {},
   "outputs": [
    {
     "data": {
      "image/png": "[encoded data removed]",
      "text/plain": [
       "<matplotlib.figure.Figure at 0x7f5f1d545c88>"
      ]
     },
     "metadata": {},
     "output_type": "display_data"
    }
   ],
   "source": [
    "import itertools\n",
    "\n",
    "\n",
    "targetColorDict = {\n",
    "    0: 'red',\n",
    "    1: 'green',\n",
    "    2: 'blue'\n",
    "}\n",
    "\n",
    "# 绘制预测点\n",
    "for pt in itertools.product(np.arange(0,1,0.02), np.arange(0,1,0.02)):\n",
    "    t = KNN(data, np.array([pt[0], pt[1]]), K)\n",
    "    plt.scatter(np.array([pt[0]]),np.array([pt[1]]),s=25,marker='o', c=targetColorDict[t],alpha=0.2)\n",
    "\n",
    "# 绘制数据点\n",
    "for t,color in targetColorDict.items():\n",
    "    idxs = np.argwhere(target == t)\n",
    "    idxs.resize(len(idxs))\n",
    "    plt.scatter(data[idxs][:,0],data[idxs][:,1],s=25,marker='o', c=targetColorDict[t])\n",
    "\n",
    "\n",
    "plt.show()\n",
    "    \n",
    "\n",
    "    "
   ]
  },
  {
   "cell_type": "markdown",
   "metadata": {},
   "source": [
    "## 引入四维数据\n",
    "\n",
    "之前我们只采用了两维数据，现在，我们可以引入四维数据：　花萼长度(sepal length)，花萼宽度(sepal width)，花瓣长度(petal length)，花瓣宽度(petal width)"
   ]
  },
  {
   "cell_type": "code",
   "execution_count": 19,
   "metadata": {},
   "outputs": [],
   "source": [
    "X = iris.data\n",
    "y = iris.target\n",
    "\n",
    "n_sample = len(y)\n",
    "\n",
    "# 初始化排序\n",
    "idxs = np.arange(n_sample)\n",
    "# 打乱排序\n",
    "np.random.shuffle(idxs)\n",
    "\n",
    "data = data[idxs]\n",
    "target = y[idxs]\n",
    "\n",
    "# 训练集\n",
    "X_train = data[:120]\n",
    "y_train = target[:120]\n",
    "# 测试集\n",
    "X_test = data[120:]\n",
    "y_test = target[120:]"
   ]
  },
  {
   "cell_type": "code",
   "execution_count": 20,
   "metadata": {},
   "outputs": [
    {
     "name": "stdout",
     "output_type": "stream",
     "text": [
      "准确率：　0.87\n"
     ]
    }
   ],
   "source": [
    "accuracy = evaluateModel(X_train,y_train, X_test, y_test,K=1)\n",
    "print(\"准确率：　%.2f\"%(accuracy))"
   ]
  },
  {
   "cell_type": "code",
   "execution_count": 24,
   "metadata": {},
   "outputs": [
    {
     "name": "stdout",
     "output_type": "stream",
     "text": [
      "K=  1; Accuracy: 0.87\n",
      "K=  3; Accuracy: 0.87\n",
      "K=  5; Accuracy: 0.73\n",
      "K=  7; Accuracy: 0.70\n",
      "K=  9; Accuracy: 0.50\n",
      "K=  11; Accuracy: 0.40\n"
     ]
    },
    {
     "data": {
      "image/png": "[encoded data removed]",
      "text/plain": [
       "<matplotlib.figure.Figure at 0x7f5f1ad1d748>"
      ]
     },
     "metadata": {},
     "output_type": "display_data"
    }
   ],
   "source": [
    "k_list = np.arange(1, 13, 2)\n",
    "result = []\n",
    "for K in k_list:\n",
    "    accuracy = evaluateModel(X_train,y_train, X_test, y_test,K=K)\n",
    "    result.append(accuracy)\n",
    "    print('K=  %d; Accuracy: %.2f'%(K, accuracy))\n",
    "\n",
    "plt.xticks(k_list)\n",
    "plt.xlim(1, 11)\n",
    "plt.plot(k_list,result)\n",
    "plt.show()"
   ]
  },
  {
   "cell_type": "markdown",
   "metadata": {},
   "source": [
    "通过上图中的数据，　我们不难看出，针对鸢尾花数据集，K=1的时候，准确率最高．\n",
    "\n",
    "其实机器学习的准确率并不是唯一的评价模型的标准，只不过阿凯在教程里目前只提到了这一种，在之后的学习过程中，我们会逐渐提到更多的模型评价指标，例如roc等．"
   ]
  },
  {
   "cell_type": "markdown",
   "metadata": {},
   "source": [
    "## Summary 总结\n",
    "\n",
    "**KNN优点**\n",
    "原理比较简单，无需参数估计，没有训练过程，针对多分类问题比较好．\n",
    "\n",
    "**KNN缺点**\n",
    "之前提到过，KNN算法属于惰性学习，每次输入样本的时候，需要匹配所有．因此如果样本量很多的话，计算量就会非常高.\n",
    "\n"
   ]
  }
 ],
 "metadata": {
  "kernelspec": {
   "display_name": "Python 3",
   "language": "python",
   "name": "python3"
  },
  "language_info": {
   "codemirror_mode": {
    "name": "ipython",
    "version": 3
   },
   "file_extension": ".py",
   "mimetype": "text/x-python",
   "name": "python",
   "nbconvert_exporter": "python",
   "pygments_lexer": "ipython3",
   "version": "3.6.2"
  }
 },
 "nbformat": 4,
 "nbformat_minor": 2
}
